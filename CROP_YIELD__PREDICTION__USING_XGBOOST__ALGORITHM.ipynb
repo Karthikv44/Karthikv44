{
  "nbformat": 4,
  "nbformat_minor": 0,
  "metadata": {
    "colab": {
      "provenance": [],
      "authorship_tag": "ABX9TyPTZqGTcIyIcdgBRDcVYCrE",
      "include_colab_link": true
    },
    "kernelspec": {
      "name": "python3",
      "display_name": "Python 3"
    },
    "language_info": {
      "name": "python"
    },
    "accelerator": "TPU",
    "gpuClass": "standard"
  },
  "cells": [
    {
      "cell_type": "markdown",
      "metadata": {
        "id": "view-in-github",
        "colab_type": "text"
      },
      "source": [
        "<a href=\"https://colab.research.google.com/github/Karthikv44/Karthikv44/blob/main/CROP_YIELD__PREDICTION__USING_XGBOOST__ALGORITHM.ipynb\" target=\"_parent\"><img src=\"https://colab.research.google.com/assets/colab-badge.svg\" alt=\"Open In Colab\"/></a>"
      ]
    },
    {
      "cell_type": "markdown",
      "source": [
        "## CROP YIELD PREDICTION USING XGBOOST ALGORITHM"
      ],
      "metadata": {
        "id": "OSSuEgjfn4O7"
      }
    },
    {
      "cell_type": "markdown",
      "source": [
        "I have created a model using XGBoost(Extreme Gradient Boosting).The model can perform in generalized for the large dataset and perform with good accuracy.The dataset of the hackathon can be fitted in the model.I used XGBoost because it can works on the principle of an ensemble learning which combines set of weak learners and gives improved accuracy."
      ],
      "metadata": {
        "id": "qp4cFqwDneVy"
      }
    },
    {
      "cell_type": "code",
      "source": [
        "import xgboost as xgb\n",
        "from sklearn.metrics import mean_squared_error\n",
        "from sklearn.metrics import confusion_matrix,classification_report,plot_confusion_matrix\n",
        "import pandas as pd\n",
        "import numpy as np\n",
        "from sklearn.model_selection import train_test_split\n",
        "import matplotlib.pyplot as plt"
      ],
      "metadata": {
        "id": "iOzCkRujQXhY"
      },
      "execution_count": null,
      "outputs": []
    },
    {
      "cell_type": "markdown",
      "source": [
        "###I can't able to access the dataset.So,I have created a simple model.The dataset can be fitted to the model.\n",
        "## train -> Training dataset\n",
        "## test -> Test dataset"
      ],
      "metadata": {
        "id": "N4M-zc1iokY5"
      }
    },
    {
      "cell_type": "markdown",
      "source": [
        "#Preprocessing the data for the XGBoost model"
      ],
      "metadata": {
        "id": "5Z6vWUkFpzDC"
      }
    },
    {
      "cell_type": "code",
      "source": [
        "data_dmatrix = xgb.DMatrix(data=train,label=test)"
      ],
      "metadata": {
        "id": "DB7RFztHIjKv"
      },
      "execution_count": null,
      "outputs": []
    },
    {
      "cell_type": "markdown",
      "source": [
        "##Splitting training and test data"
      ],
      "metadata": {
        "id": "Ytbc6PbKqy8_"
      }
    },
    {
      "cell_type": "code",
      "source": [
        "X_train, X_test, y_train, y_test = train_test_split(train, test, test_size=0.2, random_state=45)\n"
      ],
      "metadata": {
        "id": "3BrrZBWyUffM"
      },
      "execution_count": null,
      "outputs": []
    },
    {
      "cell_type": "markdown",
      "source": [
        "##PARAMETER \n",
        "### objective(LOSS FUNCTION) -> reg:linear\n",
        "### colsample_bytree ->0.4(4 percentage of features used per tree)\n",
        "### learning_rate            -> 0.03(To find the local minima)\n",
        "### max_depth -> 5 (5 trees is allowed in each boosting)\n",
        "###n_estimators ->40 (40 trees to build)\n"
      ],
      "metadata": {
        "id": "kVqiaPlhr0Pi"
      }
    },
    {
      "cell_type": "code",
      "source": [
        "model = xgb.XGBRegressor(objective ='reg:linear', colsample_bytree = 0.4, learning_rate = 0.03,\n",
        "                max_depth = 5,  n_estimators = 25)"
      ],
      "metadata": {
        "id": "bl0Op-SQr1lr"
      },
      "execution_count": null,
      "outputs": []
    },
    {
      "cell_type": "markdown",
      "source": [
        "##fit()-> fitting the model with data\n",
        "##predict()->predicting with model"
      ],
      "metadata": {
        "id": "mLWhJSwnw1Hy"
      }
    },
    {
      "cell_type": "code",
      "source": [
        "model.fit(X_train,y_train)\n",
        "\n",
        "prediction = model.predict(X_test)"
      ],
      "metadata": {
        "id": "JK_beDfZwRUJ"
      },
      "execution_count": null,
      "outputs": []
    },
    {
      "cell_type": "markdown",
      "source": [
        "##Exploring the cross validation data using root mean square error"
      ],
      "metadata": {
        "id": "hya2FQt8ymV7"
      }
    },
    {
      "cell_type": "code",
      "source": [
        "params = {\"objective\":\"reg:linear\",'colsample_bytree': 0.4,'learning_rate': 0.03,\n",
        "                'max_depth': 5}\n",
        "cv_results = xgb.cv(dtrain=data_dmatrix, params=params, nfold=3,\n",
        "                    num_boost_round=40,early_stopping_rounds=10,metrics=\"rmse\", as_pandas=True, seed=123)\n"
      ],
      "metadata": {
        "id": "1kbrHrauxg4c"
      },
      "execution_count": null,
      "outputs": []
    },
    {
      "cell_type": "code",
      "source": [
        "cv_results.head()"
      ],
      "metadata": {
        "id": "jbhHCfvFxmqM"
      },
      "execution_count": null,
      "outputs": []
    },
    {
      "cell_type": "markdown",
      "source": [
        "##FINAL BOOSTING ROUND RESULT"
      ],
      "metadata": {
        "id": "cb1aMmRczCaS"
      }
    },
    {
      "cell_type": "code",
      "source": [
        "print((cv_results[\"test-rmse-mean\"]).tail(1))\n"
      ],
      "metadata": {
        "id": "K6hkYrs7zGKb"
      },
      "execution_count": null,
      "outputs": []
    },
    {
      "cell_type": "markdown",
      "source": [
        "##Visualize Boosting Trees"
      ],
      "metadata": {
        "id": "Llj_FUHDzrfi"
      }
    },
    {
      "cell_type": "code",
      "source": [
        "model = xgb.train(params=params, dtrain=data_dmatrix, num_boost_round=10)\n",
        "xgb.plot_tree(model,num_trees=0)\n",
        "plt.rcParams['figure.figsize'] = [50, 10]\n",
        "plt.show()\n"
      ],
      "metadata": {
        "id": "5L4OAZ1sztHi"
      },
      "execution_count": null,
      "outputs": []
    },
    {
      "cell_type": "markdown",
      "source": [
        "##Analysing feature importance"
      ],
      "metadata": {
        "id": "Tl435rZE0UpK"
      }
    },
    {
      "cell_type": "code",
      "source": [
        "xgb.plot_importance(xg_reg)\n",
        "plt.rcParams['figure.figsize'] = [5, 5]\n",
        "plt.show()"
      ],
      "metadata": {
        "id": "6trsKXTH0eFD"
      },
      "execution_count": null,
      "outputs": []
    }
  ]
}